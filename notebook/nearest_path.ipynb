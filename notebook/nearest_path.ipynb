{
 "cells": [
  {
   "cell_type": "code",
   "execution_count": 23,
   "id": "2b28dd17-615b-43cc-b52d-aab7beda1724",
   "metadata": {},
   "outputs": [
    {
     "name": "stdout",
     "output_type": "stream",
     "text": [
      "['/Users/takizawa/dev/ahc/ahc008/notebook', '/Users/takizawa/.pyenv/versions/3.8.2/lib/python38.zip', '/Users/takizawa/.pyenv/versions/3.8.2/lib/python3.8', '/Users/takizawa/.pyenv/versions/3.8.2/lib/python3.8/lib-dynload', '', '/Users/takizawa/dev/ahc/ahc008/.venv/lib/python3.8/site-packages', '/Users/takizawa/dev/ahc/ahc008']\n"
     ]
    }
   ],
   "source": [
    "from dataclasses import dataclass\n",
    "from typing import List, Union, Optional, Dict\n",
    "\n",
    "import copy\n",
    "import sys\n",
    "ahc008_path = \"/Users/takizawa/dev/ahc/ahc008\"\n",
    "if ahc008_path not in sys.path:\n",
    "    sys.path.append(ahc008_path)\n",
    "print(sys.path)\n",
    "\n",
    "from main import Floor, Point, Tile, move_char_to_diff"
   ]
  },
  {
   "cell_type": "code",
   "execution_count": 2,
   "id": "1affd4ef-9382-441c-b901-685dc627ac75",
   "metadata": {},
   "outputs": [],
   "source": [
    "# @dataclass\n",
    "# class Steps:\n",
    "#     u: int = 0\n",
    "#     d: int = 0\n",
    "#     l: int = 0\n",
    "#     r: int = 0\n",
    "    \n",
    "#     def __repr__(self):\n",
    "#         return f\"({self.u}, {self.d}, {self.l}, {self.r})\""
   ]
  },
  {
   "cell_type": "code",
   "execution_count": 3,
   "id": "c9e8cc81-33ef-4e14-8d46-fb3d9fd5d27e",
   "metadata": {},
   "outputs": [],
   "source": [
    "class Steps(dict):\n",
    "    def __init__(self, U=0, D=0, L=0, R=0, *arg,**kw):\n",
    "        super(Steps, self).__init__(*arg, **kw)\n",
    "        self[\"U\"] = U\n",
    "        self[\"D\"] = D\n",
    "        self[\"L\"] = L\n",
    "        self[\"R\"] = R\n",
    "        \n",
    "    def __repr__(self):\n",
    "        return f\"({self['U']}, {self['D']}, {self['L']}, {self['R']})\""
   ]
  },
  {
   "cell_type": "code",
   "execution_count": 4,
   "id": "a9c9fd11-9cc3-4812-9a6a-9a0263901e53",
   "metadata": {},
   "outputs": [
    {
     "data": {
      "text/plain": [
       "(1, 0, 0, 4)"
      ]
     },
     "execution_count": 4,
     "metadata": {},
     "output_type": "execute_result"
    }
   ],
   "source": [
    "steps = Steps(1,0,0,4)\n",
    "steps"
   ]
  },
  {
   "cell_type": "code",
   "execution_count": 6,
   "id": "babb5c38-dc88-4e9b-b716-557a9cb6537e",
   "metadata": {},
   "outputs": [
    {
     "data": {
      "text/plain": [
       "<dict_keyiterator at 0x1079abb80>"
      ]
     },
     "execution_count": 6,
     "metadata": {},
     "output_type": "execute_result"
    }
   ],
   "source": [
    "iter(steps)"
   ]
  },
  {
   "cell_type": "code",
   "execution_count": 7,
   "id": "02215823-ab75-482d-aac5-31147aee05ed",
   "metadata": {},
   "outputs": [
    {
     "data": {
      "text/plain": [
       "1"
      ]
     },
     "execution_count": 7,
     "metadata": {},
     "output_type": "execute_result"
    }
   ],
   "source": [
    "steps[\"U\"]"
   ]
  },
  {
   "cell_type": "code",
   "execution_count": 8,
   "id": "1636c95d-ef1f-4a23-b079-36311df9a98a",
   "metadata": {},
   "outputs": [
    {
     "name": "stdout",
     "output_type": "stream",
     "text": [
      "U 1\n",
      "D 0\n",
      "L 0\n",
      "R 4\n"
     ]
    }
   ],
   "source": [
    "for k, v in steps.items():\n",
    "    print(k,v)"
   ]
  },
  {
   "cell_type": "code",
   "execution_count": 10,
   "id": "a11fa5d7-0113-4186-82f4-3338be127d60",
   "metadata": {},
   "outputs": [
    {
     "data": {
      "text/plain": [
       "(1, 0, 0, 4)"
      ]
     },
     "execution_count": 10,
     "metadata": {},
     "output_type": "execute_result"
    }
   ],
   "source": [
    "steps"
   ]
  },
  {
   "cell_type": "code",
   "execution_count": 11,
   "id": "512b1560-7470-4875-b372-40e6044a47e4",
   "metadata": {},
   "outputs": [
    {
     "data": {
      "text/plain": [
       "(2, 0, 0, 4)"
      ]
     },
     "execution_count": 11,
     "metadata": {},
     "output_type": "execute_result"
    }
   ],
   "source": [
    "steps[\"U\"] += 1\n",
    "steps"
   ]
  },
  {
   "cell_type": "code",
   "execution_count": 12,
   "id": "c3bad72d-782d-4609-bbe8-8a6d5378d9be",
   "metadata": {},
   "outputs": [],
   "source": [
    "floor = Floor(5, 1)"
   ]
  },
  {
   "cell_type": "code",
   "execution_count": 13,
   "id": "8e696c79-4bef-437a-a4c2-0396e8a0e494",
   "metadata": {},
   "outputs": [],
   "source": [
    "floor_1 = Floor(5, 2)\n",
    "floor_1.update_tile(Point(2,5), Tile.PARTITION)\n",
    "floor_1.update_tile(Point(3,5), Tile.PARTITION)\n",
    "floor_1.update_tile(Point(4,5), Tile.PARTITION)\n",
    "# floor_1.update_tile(Point(3,6), Tile.PARTITION)"
   ]
  },
  {
   "cell_type": "code",
   "execution_count": 14,
   "id": "586a1a67-9058-407a-b0b8-8f984094f951",
   "metadata": {},
   "outputs": [
    {
     "data": {
      "text/plain": [
       "111111111\n",
       "111111111\n",
       "110002011\n",
       "110002011\n",
       "110002011\n",
       "110000011\n",
       "110000011\n",
       "111111111\n",
       "111111111"
      ]
     },
     "execution_count": 14,
     "metadata": {},
     "output_type": "execute_result"
    }
   ],
   "source": [
    "floor_1"
   ]
  },
  {
   "cell_type": "code",
   "execution_count": 27,
   "id": "19f55ba9-0585-407a-9ead-6c7019c1a354",
   "metadata": {},
   "outputs": [
    {
     "data": {
      "text/plain": [
       "[<Tile.WALL: 1>,\n",
       " <Tile.EMPTY: 0>,\n",
       " <Tile.EMPTY: 0>,\n",
       " <Tile.EMPTY: 0>,\n",
       " <Tile.EMPTY: 0>,\n",
       " <Tile.EMPTY: 0>,\n",
       " <Tile.WALL: 1>]"
      ]
     },
     "execution_count": 27,
     "metadata": {},
     "output_type": "execute_result"
    }
   ],
   "source": [
    "floor.tiles[2]"
   ]
  },
  {
   "cell_type": "code",
   "execution_count": 15,
   "id": "4e0e6da2-ed3c-47f3-bfec-57189ac5cedb",
   "metadata": {},
   "outputs": [],
   "source": [
    "START = Point(6,3)\n",
    "GOAL = Point(2,6)"
   ]
  },
  {
   "cell_type": "code",
   "execution_count": 17,
   "id": "5545b34a-2e04-4316-8aa4-364ae4aa9291",
   "metadata": {},
   "outputs": [],
   "source": [
    "def cal_steps(start, goal):\n",
    "    diff = GOAL - START\n",
    "    steps = Steps()\n",
    "    # 上下\n",
    "    if diff.x > 0:\n",
    "        steps[\"D\"] = diff.x\n",
    "    else:\n",
    "        # 正の数にする\n",
    "        steps[\"U\"] = -diff.x\n",
    "    \n",
    "    # 左右\n",
    "    if diff.y > 0:\n",
    "        steps[\"R\"] = diff.y\n",
    "    else:\n",
    "        steps[\"L\"] = -diff.y\n",
    "    \n",
    "    return steps"
   ]
  },
  {
   "cell_type": "code",
   "execution_count": 18,
   "id": "68aeab22-beb6-4c91-987b-b56a9b460c36",
   "metadata": {},
   "outputs": [
    {
     "data": {
      "text/plain": [
       "(4, 0, 0, 3)"
      ]
     },
     "execution_count": 18,
     "metadata": {},
     "output_type": "execute_result"
    }
   ],
   "source": [
    "cal_steps(START,GOAL)"
   ]
  },
  {
   "cell_type": "code",
   "execution_count": 70,
   "id": "00a6675a-96dd-4077-8a48-f73616efc6ab",
   "metadata": {},
   "outputs": [],
   "source": [
    "steps = cal_steps(START,GOAL)"
   ]
  },
  {
   "cell_type": "code",
   "execution_count": 71,
   "id": "2d493c7e-1b99-4a75-a7e9-02ddbc62ca3a",
   "metadata": {},
   "outputs": [
    {
     "data": {
      "text/plain": [
       "(4, 0, 0, 3)"
      ]
     },
     "execution_count": 71,
     "metadata": {},
     "output_type": "execute_result"
    }
   ],
   "source": [
    "steps"
   ]
  },
  {
   "cell_type": "code",
   "execution_count": 72,
   "id": "5a16c818-63fe-41a5-9d8f-35c2e3aaec4c",
   "metadata": {},
   "outputs": [
    {
     "name": "stdout",
     "output_type": "stream",
     "text": [
      "('U', 4)\n",
      "('D', 0)\n",
      "('L', 0)\n",
      "('R', 3)\n"
     ]
    }
   ],
   "source": [
    "for step in steps.items():\n",
    "    print(step)"
   ]
  },
  {
   "cell_type": "code",
   "execution_count": 74,
   "id": "299b0aff-feef-42de-a24c-d4a803e763c6",
   "metadata": {},
   "outputs": [
    {
     "data": {
      "text/plain": [
       "{'U': PointDiff(x=-1, y=0),\n",
       " 'D': PointDiff(x=1, y=0),\n",
       " 'L': PointDiff(x=0, y=-1),\n",
       " 'R': PointDiff(x=0, y=1),\n",
       " '.': PointDiff(x=0, y=0)}"
      ]
     },
     "execution_count": 74,
     "metadata": {},
     "output_type": "execute_result"
    }
   ],
   "source": [
    "move_char_to_diff"
   ]
  },
  {
   "cell_type": "code",
   "execution_count": 90,
   "id": "aad56074-e658-4c06-9ba2-232605527a5d",
   "metadata": {},
   "outputs": [
    {
     "data": {
      "text/plain": [
       "True"
      ]
     },
     "execution_count": 90,
     "metadata": {},
     "output_type": "execute_result"
    }
   ],
   "source": [
    "Point(1,2) == Point(1,2)"
   ]
  },
  {
   "cell_type": "code",
   "execution_count": 36,
   "id": "13853776-0706-447c-ba45-cf636fc9fa43",
   "metadata": {},
   "outputs": [],
   "source": [
    "def solve_route(start, goal, floor)-> List[Point]:\n",
    "    \"\"\"startからgoalまでの経路のPointのListを返す\n",
    "    経路長は最短であることを前提とする。\n",
    "    経路が見つからなければ空のListを返す。\n",
    "    \n",
    "    TODO: 経路長が最短でない場合\n",
    "    \"\"\"\n",
    "    def dfs(start, goal, steps) -> List[Point]:\n",
    "        if start == goal:\n",
    "            return [goal]\n",
    "        \n",
    "        for step_dir, step_cnt in steps.items():\n",
    "            if step_cnt == 0:\n",
    "                continue\n",
    "            \n",
    "            diff = move_char_to_diff[step_dir]\n",
    "            next_point = start + diff\n",
    "            \n",
    "            if floor.get_tile(next_point) not in [Tile.WALL, Tile.PARTITION]:\n",
    "                next_steps = copy.deepcopy(steps)\n",
    "                next_steps[step_dir] -= 1\n",
    "                result = dfs(next_point, goal, next_steps)\n",
    "                if len(result) > 0:\n",
    "                    return [start] + result\n",
    "        return []\n",
    "    \n",
    "    steps = cal_steps(start, goal)\n",
    "    return dfs(start, goal, steps)\n"
   ]
  },
  {
   "cell_type": "code",
   "execution_count": 37,
   "id": "1de20842-5554-4981-9c7d-d9a70cc275c9",
   "metadata": {},
   "outputs": [
    {
     "data": {
      "text/plain": [
       "[Point(x=6, y=3),\n",
       " Point(x=5, y=3),\n",
       " Point(x=5, y=4),\n",
       " Point(x=5, y=5),\n",
       " Point(x=5, y=6),\n",
       " Point(x=4, y=6),\n",
       " Point(x=3, y=6),\n",
       " Point(x=2, y=6)]"
      ]
     },
     "execution_count": 37,
     "metadata": {},
     "output_type": "execute_result"
    }
   ],
   "source": [
    "solve_route(START, GOAL, floor_1)"
   ]
  },
  {
   "cell_type": "code",
   "execution_count": 41,
   "id": "48a1e6b8-2fb2-4c88-b072-04aad8e33eb3",
   "metadata": {},
   "outputs": [
    {
     "data": {
      "text/plain": [
       "[Point(x=3, y=3)]"
      ]
     },
     "execution_count": 41,
     "metadata": {},
     "output_type": "execute_result"
    }
   ],
   "source": [
    "# 同じ場所\n",
    "solve_route(Point(3,3),Point(3,3), floor_1)"
   ]
  },
  {
   "cell_type": "code",
   "execution_count": 40,
   "id": "0db9f093-8231-4d60-b35f-a49c2dcbb37f",
   "metadata": {},
   "outputs": [
    {
     "data": {
      "text/plain": [
       "[]"
      ]
     },
     "execution_count": 40,
     "metadata": {},
     "output_type": "execute_result"
    }
   ],
   "source": [
    "# GOALにPARTITIONがある場合経路はない\n",
    "solve_route(Point(3,3),Point(2,5), floor_1)"
   ]
  },
  {
   "cell_type": "code",
   "execution_count": null,
   "id": "d415f874-b291-404b-aa55-ab941787ea3f",
   "metadata": {},
   "outputs": [],
   "source": []
  }
 ],
 "metadata": {
  "kernelspec": {
   "display_name": "Python 3 (ipykernel)",
   "language": "python",
   "name": "python3"
  },
  "language_info": {
   "codemirror_mode": {
    "name": "ipython",
    "version": 3
   },
   "file_extension": ".py",
   "mimetype": "text/x-python",
   "name": "python",
   "nbconvert_exporter": "python",
   "pygments_lexer": "ipython3",
   "version": "3.8.2"
  }
 },
 "nbformat": 4,
 "nbformat_minor": 5
}
