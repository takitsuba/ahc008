{
 "cells": [
  {
   "cell_type": "code",
   "execution_count": 2,
   "id": "2a297c8c-0592-4c09-a06d-65e696373be3",
   "metadata": {},
   "outputs": [
    {
     "name": "stdout",
     "output_type": "stream",
     "text": [
      "['/Users/takizawa/dev/ahc/ahc008/notebook', '/Users/takizawa/.pyenv/versions/3.8.2/lib/python38.zip', '/Users/takizawa/.pyenv/versions/3.8.2/lib/python3.8', '/Users/takizawa/.pyenv/versions/3.8.2/lib/python3.8/lib-dynload', '', '/Users/takizawa/dev/ahc/ahc008/.venv/lib/python3.8/site-packages', '/Users/takizawa/dev/ahc/ahc008']\n"
     ]
    }
   ],
   "source": [
    "import sys\n",
    "ahc008_path = \"/Users/takizawa/dev/ahc/ahc008\"\n",
    "if ahc008_path not in sys.path:\n",
    "    sys.path.append(ahc008_path)\n",
    "print(sys.path)\n",
    "\n",
    "\n",
    "from main import PointDiff"
   ]
  },
  {
   "cell_type": "code",
   "execution_count": 4,
   "id": "3dd012bf-3f0b-49a3-acde-5327e0066a77",
   "metadata": {},
   "outputs": [
    {
     "data": {
      "text/plain": [
       "True"
      ]
     },
     "execution_count": 4,
     "metadata": {},
     "output_type": "execute_result"
    }
   ],
   "source": [
    "PointDiff(1,2) == PointDiff(1,2)"
   ]
  },
  {
   "cell_type": "code",
   "execution_count": null,
   "id": "2baf005a-2df4-44fd-9767-720c717fc2f0",
   "metadata": {},
   "outputs": [],
   "source": []
  }
 ],
 "metadata": {
  "kernelspec": {
   "display_name": "Python 3 (ipykernel)",
   "language": "python",
   "name": "python3"
  },
  "language_info": {
   "codemirror_mode": {
    "name": "ipython",
    "version": 3
   },
   "file_extension": ".py",
   "mimetype": "text/x-python",
   "name": "python",
   "nbconvert_exporter": "python",
   "pygments_lexer": "ipython3",
   "version": "3.8.2"
  }
 },
 "nbformat": 4,
 "nbformat_minor": 5
}
